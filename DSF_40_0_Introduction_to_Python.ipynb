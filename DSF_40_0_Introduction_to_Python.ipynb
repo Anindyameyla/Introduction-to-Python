{
  "nbformat": 4,
  "nbformat_minor": 0,
  "metadata": {
    "colab": {
      "provenance": []
    },
    "kernelspec": {
      "name": "python3",
      "display_name": "Python 3"
    },
    "language_info": {
      "name": "python"
    }
  },
  "cells": [
    {
      "cell_type": "code",
      "execution_count": null,
      "metadata": {
        "colab": {
          "base_uri": "https://localhost:8080/"
        },
        "id": "ZfFmv48sVaXI",
        "outputId": "cfc0f180-d324-46cc-f44d-2c4f31403743"
      },
      "outputs": [
        {
          "output_type": "stream",
          "name": "stdout",
          "text": [
            "Masukkan nama mahasiswa: Sarah\n",
            "Masukkan NIM: 12345678\n",
            "Masukkan nilai ujian (0-100): 81\n",
            "\n",
            "Nama: Sarah (type: <class 'str'>)\n",
            "NIM: 12345678 (type: <class 'str'>)\n",
            "Nilai: 81 (type: <class 'int'>)\n",
            "\n",
            "Hasil Evaluasi:\n",
            "Mahasiswa: Sarah (NIM: 12345678)\n",
            "Nilai Ujian: 81\n",
            "Kategori Nilai: B (Baik)\n"
          ]
        }
      ],
      "source": [
        "# Meminta input dari pengguna\n",
        "nama = input(\"Masukkan nama mahasiswa: \")\n",
        "nim = input(\"Masukkan NIM: \")\n",
        "nilai = int(input(\"Masukkan nilai ujian (0-100): \"))\n",
        "\n",
        "# Menampilkan tipe data\n",
        "print(f\"\\nNama: {nama} (type: {type(nama)})\")\n",
        "print(f\"NIM: {nim} (type: {type(nim)})\")\n",
        "print(f\"Nilai: {nilai} (type: {type(nilai)})\")\n",
        "\n",
        "# Menentukan kategori nilai\n",
        "if 85 <= nilai <= 100:\n",
        "    kategori = \"A (Sangat Baik)\"\n",
        "elif 75 <= nilai <= 84:\n",
        "    kategori = \"B (Baik)\"\n",
        "elif 60 <= nilai <= 74:\n",
        "    kategori = \"C (Cukup)\"\n",
        "elif 40 <= nilai <= 59:\n",
        "    kategori = \"D (Kurang)\"\n",
        "else:\n",
        "    kategori = \"E (Sangat Kurang)\"\n",
        "\n",
        "# Tampilkan hasil evaluasi\n",
        "print(\"\\nHasil Evaluasi:\")\n",
        "print(f\"Mahasiswa: {nama} (NIM: {nim})\")\n",
        "print(f\"Nilai Ujian: {nilai}\")\n",
        "print(f\"Kategori Nilai: {kategori}\")"
      ]
    }
  ]
}